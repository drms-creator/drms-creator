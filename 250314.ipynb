{
  "nbformat": 4,
  "nbformat_minor": 0,
  "metadata": {
    "colab": {
      "provenance": [],
      "authorship_tag": "ABX9TyP90tUfzp5oADLfekYP8Ojy",
      "include_colab_link": true
    },
    "kernelspec": {
      "name": "python3",
      "display_name": "Python 3"
    },
    "language_info": {
      "name": "python"
    }
  },
  "cells": [
    {
      "cell_type": "markdown",
      "metadata": {
        "id": "view-in-github",
        "colab_type": "text"
      },
      "source": [
        "<a href=\"https://colab.research.google.com/github/drms-creator/drms-creator/blob/main/250314.ipynb\" target=\"_parent\"><img src=\"https://colab.research.google.com/assets/colab-badge.svg\" alt=\"Open In Colab\"/></a>"
      ]
    },
    {
      "cell_type": "code",
      "execution_count": 1,
      "metadata": {
        "id": "b-V1p6pDdG_t"
      },
      "outputs": [],
      "source": [
        "# 셀 하나당 한문제씩"
      ]
    },
    {
      "cell_type": "code",
      "source": [
        "# 문제기술\n",
        "# 문제 1\n",
        "# 반지름이 5인 원의 면적을 구하시오. 원주율 값은 3.141592로 계산합니다.\n",
        "# 출력 예시\n",
        "# 반지름이 5인 원의 면적은 78.5398 입니다.\n",
        "R = int(input())\n",
        "S = R*R*3.141592\n",
        "print(f\"반지름이 {R}인 원의 면적은 {S} 입니다.\")"
      ],
      "metadata": {
        "colab": {
          "base_uri": "https://localhost:8080/"
        },
        "id": "GjIUvM4LdO3m",
        "outputId": "f8a3737e-b5cf-4e94-aaa4-bb6ddd32ac96"
      },
      "execution_count": 3,
      "outputs": [
        {
          "output_type": "stream",
          "name": "stdout",
          "text": [
            "5\n",
            "반지름이 5인 원의 면적은 78.5398 입니다.\n"
          ]
        }
      ]
    },
    {
      "cell_type": "code",
      "source": [
        "# 문제 2\n",
        "# 분(정수)을 시간과 분으로 변환하여 출력하시오.\n",
        "# 출력 예시\n",
        "# 100분은 1시간 40분 입니다.\n",
        "M = int(input())\n",
        "Hour = M//60\n",
        "Minute = M%60\n",
        "print(f\"{M}분은 {Hour}시간 {Minute}분 입니다.\")"
      ],
      "metadata": {
        "colab": {
          "base_uri": "https://localhost:8080/"
        },
        "id": "amQpGaZ2d-gC",
        "outputId": "e6a45f63-b579-487c-b74c-a1c11185d9f5"
      },
      "execution_count": 4,
      "outputs": [
        {
          "output_type": "stream",
          "name": "stdout",
          "text": [
            "100\n",
            "100분은 1시간 40분 입니다.\n"
          ]
        }
      ]
    },
    {
      "cell_type": "code",
      "source": [],
      "metadata": {
        "id": "Msm17GNLfWdu"
      },
      "execution_count": null,
      "outputs": []
    }
  ]
}